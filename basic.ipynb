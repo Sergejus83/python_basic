{
 "cells": [
  {
   "cell_type": "markdown",
   "metadata": {},
   "source": [
    "# Hello world:)"
   ]
  },
  {
   "cell_type": "code",
   "execution_count": 2,
   "metadata": {},
   "outputs": [
    {
     "name": "stdout",
     "output_type": "stream",
     "text": [
      "here is just a note\n"
     ]
    }
   ],
   "source": [
    "print(\"Here is just a note\")"
   ]
  },
  {
   "cell_type": "markdown",
   "metadata": {},
   "source": [
    "Calculations"
   ]
  },
  {
   "cell_type": "code",
   "execution_count": 93,
   "metadata": {},
   "outputs": [
    {
     "name": "stdout",
     "output_type": "stream",
     "text": [
      "1.6363636363636365\n",
      "1\n",
      "16\n",
      "9\n",
      "27\n",
      "200\n"
     ]
    },
    {
     "data": {
      "text/plain": [
       "12.2399"
      ]
     },
     "execution_count": 93,
     "metadata": {},
     "output_type": "execute_result"
    }
   ],
   "source": [
    "a=18/11 #float\n",
    "print(a)\n",
    "print(int(a)) #integer\n",
    "print(1+3*5)\n",
    "print(3**2) #squered\n",
    "print(3**3) #to the power of 3\n",
    "b=10; c=20\n",
    "print(b*c)\n",
    "d=12.239870003\n",
    "round(d,4) #(d- number, 4-count of rounding)"
   ]
  },
  {
   "cell_type": "markdown",
   "metadata": {},
   "source": [
    "## text writing"
   ]
  },
  {
   "cell_type": "code",
   "execution_count": 66,
   "metadata": {},
   "outputs": [
    {
     "name": "stdout",
     "output_type": "stream",
     "text": [
      "first line \\n second line\n",
      "text: my\n",
      "ame\\is\n",
      "text: my\\name\\is\n",
      ".\n",
      "a big \n",
      "       comments\n",
      "       area.\n",
      "Hellooooooo!\n",
      "Hello\n"
     ]
    },
    {
     "data": {
      "text/plain": [
       "'late'"
      ]
     },
     "execution_count": 66,
     "metadata": {},
     "output_type": "execute_result"
    }
   ],
   "source": [
    "print(r\"first line \\n second line\")\n",
    "print(\"text: my\\name\\is\")\n",
    "print(r\"text: my\\name\\is\") # with \"r\" print in one line\n",
    "print (\"\"\".\n",
    "a big \n",
    "       comments\n",
    "       area.\"\"\")\n",
    "print('Hell' + 7* 'o' + '!') # + - concatenate, 7* -seven times concatenated\n",
    "print('Hell'      'o' )## + - concatenate if string near each other\n",
    "e='la'\n",
    "e+'te'\n"
   ]
  },
  {
   "cell_type": "markdown",
   "metadata": {},
   "source": [
    "## Index"
   ]
  },
  {
   "cell_type": "code",
   "execution_count": 92,
   "metadata": {},
   "outputs": [
    {
     "name": "stdout",
     "output_type": "stream",
     "text": [
      "S  /..  s u j\n",
      "Ser er\n",
      "Ser gejus jus\n",
      "#concatenate -->  Sergejus\n",
      "S\n",
      "Sergejus\n",
      "new word:  Sergejau!\n",
      "lenght of string(count of symbols):  8\n"
     ]
    }
   ],
   "source": [
    "word = 'Sergejus'\n",
    "print(word[0], ' /.. ', word[-1], word[-2], word[-3]) #print [0]-index -first character, [-1]-last, [-2]-second last\n",
    "print(word[0:3], word[1:3])#print from 0-index , from :3-index exluded\n",
    "print(word[:3], word[3:],word[-3:],)#from the beginning to position 3 (excluded), \n",
    "#from position 3 (included) to the end, the 3rd-last (included) to the end\n",
    "print(\"#concatenate --> \", word[:3] + word[3:]) #concatenate \n",
    "print(word[-8])\n",
    "print(word[0:100])\n",
    "print(f\"new word: \", word[0:6] + \"au!\")\n",
    "print(\"lenght of string(count of symbols): \", len(word))\n"
   ]
  },
  {
   "cell_type": "code",
   "execution_count": null,
   "metadata": {},
   "outputs": [],
   "source": []
  }
 ],
 "metadata": {
  "kernelspec": {
   "display_name": "Python 3",
   "language": "python",
   "name": "python3"
  },
  "language_info": {
   "codemirror_mode": {
    "name": "ipython",
    "version": 3
   },
   "file_extension": ".py",
   "mimetype": "text/x-python",
   "name": "python",
   "nbconvert_exporter": "python",
   "pygments_lexer": "ipython3",
   "version": "3.10.6"
  },
  "orig_nbformat": 4
 },
 "nbformat": 4,
 "nbformat_minor": 2
}
